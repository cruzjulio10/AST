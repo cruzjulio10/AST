{
  "cells": [
    {
      "cell_type": "markdown",
      "metadata": {
        "id": "view-in-github",
        "colab_type": "text"
      },
      "source": [
        "<a href=\"https://colab.research.google.com/github/cruzjulio10/AST/blob/master/ejercicios_strings_2023.ipynb\" target=\"_parent\"><img src=\"https://colab.research.google.com/assets/colab-badge.svg\" alt=\"Open In Colab\"/></a>"
      ]
    },
    {
      "cell_type": "markdown",
      "source": [
        "# Ejercicios Strings post clase practica 1"
      ],
      "metadata": {
        "id": "MI_Elq15yT6c"
      },
      "id": "MI_Elq15yT6c"
    },
    {
      "cell_type": "code",
      "source": [],
      "metadata": {
        "id": "0oJghZyVyRKo"
      },
      "id": "0oJghZyVyRKo",
      "execution_count": null,
      "outputs": []
    },
    {
      "cell_type": "markdown",
      "source": [
        "#### 1) pedir por consola al usuario un email y guardarlo en variable \"email\". Imprimir si cumple con alguna de las terminaciones existentes\n",
        " (supongamos que solo existen las terminaciones __@gmail.com__ y __@yahoo.com__ )\n",
        "\n",
        "\n",
        " imprimir de la forma  -->       \"es X que el mail termina en Z , y es Y que el mail termina en K\""
      ],
      "metadata": {
        "id": "GBUeYtY4ySIM"
      },
      "id": "GBUeYtY4ySIM"
    },
    {
      "cell_type": "code",
      "source": [],
      "metadata": {
        "id": "JZxrcjkQyRbX"
      },
      "id": "JZxrcjkQyRbX",
      "execution_count": null,
      "outputs": []
    },
    {
      "cell_type": "code",
      "source": [],
      "metadata": {
        "id": "-r8XDBvdyRnO"
      },
      "id": "-r8XDBvdyRnO",
      "execution_count": null,
      "outputs": []
    },
    {
      "cell_type": "markdown",
      "id": "c6c9aae0",
      "metadata": {
        "id": "c6c9aae0"
      },
      "source": [
        "#### 2) pedir por consola una frase al usuario e imprimir cuantas palabras contiene la misma"
      ]
    },
    {
      "cell_type": "code",
      "execution_count": null,
      "id": "c041a029",
      "metadata": {
        "id": "c041a029"
      },
      "outputs": [],
      "source": []
    },
    {
      "cell_type": "code",
      "execution_count": null,
      "id": "c0a52d6d",
      "metadata": {
        "id": "c0a52d6d"
      },
      "outputs": [],
      "source": []
    },
    {
      "cell_type": "markdown",
      "id": "348f9240",
      "metadata": {
        "id": "348f9240"
      },
      "source": [
        "#### 3) verificar si las variables dadas son un palindromo (capicua en criollo) e imprimir todas las respuestas  utilizando UNA sola vez la funcion \"print\" asegurando que entre cada respuesta haya un salto de linea.\n",
        "\n",
        "imprimir en un formato similar al punto 1.\n",
        "\n",
        "a la variable __cuatro__ formatear con metodos para intentar asegurar no tener fallas a la hora de resolver."
      ]
    },
    {
      "cell_type": "code",
      "execution_count": null,
      "id": "90dab1eb",
      "metadata": {
        "id": "90dab1eb"
      },
      "outputs": [],
      "source": [
        "uno = \"Python\"\n",
        "dos = \"Amor a Roma\"\n",
        "tres = \"Yo hago yoga hoy\"\n",
        "cuatro = input(\"escriba una palabra y le dire si es un palindromo: \")"
      ]
    },
    {
      "cell_type": "code",
      "execution_count": null,
      "id": "e265fb01",
      "metadata": {
        "id": "e265fb01"
      },
      "outputs": [],
      "source": []
    }
  ],
  "metadata": {
    "kernelspec": {
      "display_name": "Python 3 (ipykernel)",
      "language": "python",
      "name": "python3"
    },
    "language_info": {
      "codemirror_mode": {
        "name": "ipython",
        "version": 3
      },
      "file_extension": ".py",
      "mimetype": "text/x-python",
      "name": "python",
      "nbconvert_exporter": "python",
      "pygments_lexer": "ipython3",
      "version": "3.10.9"
    },
    "colab": {
      "provenance": [],
      "include_colab_link": true
    }
  },
  "nbformat": 4,
  "nbformat_minor": 5
}